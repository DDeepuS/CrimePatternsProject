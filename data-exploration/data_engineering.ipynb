{
 "cells": [
  {
   "cell_type": "code",
   "execution_count": 1,
   "metadata": {},
   "outputs": [],
   "source": [
    "#import modules\n",
    "import pandas as pd"
   ]
  },
  {
   "cell_type": "code",
   "execution_count": null,
   "metadata": {},
   "outputs": [
    {
     "name": "stderr",
     "output_type": "stream",
     "text": [
      "/tmp/ipykernel_105711/1081854286.py:1: DtypeWarning: Columns (21,22,23,24,25) have mixed types. Specify dtype option on import or set low_memory=False.\n",
      "  df = pd.read_csv(\"../data/Crimes_and_Clearances_with_Arson-1985-2023.csv\")\n"
     ]
    }
   ],
   "source": [
    "cc_arson_df = pd.read_csv(\"../data/Crimes_and_Clearances_with_Arson-1985-2023.csv\")"
   ]
  },
  {
   "cell_type": "markdown",
   "metadata": {},
   "source": [
    "The message above indicates that some of the columns have mixed data type. We can resolve this below:\n",
    "- First check which columns have non-numeric data types.\n",
    "- Check which columns have mixed data types. "
   ]
  },
  {
   "cell_type": "code",
   "execution_count": null,
   "metadata": {},
   "outputs": [
    {
     "name": "stdout",
     "output_type": "stream",
     "text": [
      "Index(['County', 'NCICCode', 'TotalStructural_sum', 'TotalMobile_sum',\n",
      "       'TotalOther_sum', 'GrandTotal_sum', 'GrandTotClr_sum'],\n",
      "      dtype='object')\n"
     ]
    }
   ],
   "source": [
    "## Columns with Non numeric dtypes\n",
    "non_numeric_cols = cc_arson_df.select_dtypes(include=['object']).columns\n",
    "print(non_numeric_cols)"
   ]
  },
  {
   "cell_type": "code",
   "execution_count": 6,
   "metadata": {},
   "outputs": [],
   "source": [
    "def mixed_type_columns(df: pd.DataFrame) -> list:\n",
    "    \"\"\"\n",
    "    Look for columns with mixed types\n",
    "\n",
    "    Parameters: \n",
    "    df(pd.DataFrame)\n",
    "\n",
    "    Returns: \n",
    "    list: A list of columes with mixed dtypes\n",
    "    \"\"\"\n",
    "    mixed_columns = []\n",
    "    for column in df.columns:\n",
    "        types_in_column = df[column].map(type).unique()\n",
    "        if len(types_in_column) > 1:\n",
    "            mixed_columns.append(column)\n",
    "    return mixed_columns   "
   ]
  },
  {
   "cell_type": "code",
   "execution_count": null,
   "metadata": {},
   "outputs": [
    {
     "name": "stdout",
     "output_type": "stream",
     "text": [
      "['TotalStructural_sum', 'TotalMobile_sum', 'TotalOther_sum', 'GrandTotal_sum', 'GrandTotClr_sum']\n"
     ]
    }
   ],
   "source": [
    "# The columns with mixed dtypes\n",
    "mixed_columns = mixed_type_columns(cc_arson_df)\n",
    "print(mixed_columns)"
   ]
  },
  {
   "cell_type": "code",
   "execution_count": null,
   "metadata": {},
   "outputs": [],
   "source": [
    "# Make a copy of df\n",
    "cc_arson_df_copy = cc_arson_df.copy()\n"
   ]
  },
  {
   "cell_type": "code",
   "execution_count": null,
   "metadata": {},
   "outputs": [],
   "source": [
    "# Resolve the issue with mixed dtypes\n",
    "\n",
    "cc_arson_df_copy[mixed_columns] = cc_arson_df_copy[mixed_columns].apply(pd.to_numeric, errors='coerce')"
   ]
  },
  {
   "cell_type": "code",
   "execution_count": null,
   "metadata": {},
   "outputs": [
    {
     "name": "stdout",
     "output_type": "stream",
     "text": [
      "True\n"
     ]
    }
   ],
   "source": [
    "# No mixed types in the copy of the dataframe.\n",
    "mixed_columns = mixed_type_columns(cc_arson_df_copy)\n",
    "print(mixed_columns == [])"
   ]
  },
  {
   "cell_type": "code",
   "execution_count": null,
   "metadata": {},
   "outputs": [],
   "source": []
  }
 ],
 "metadata": {
  "kernelspec": {
   "display_name": "erdos_spring_2025",
   "language": "python",
   "name": "python3"
  },
  "language_info": {
   "codemirror_mode": {
    "name": "ipython",
    "version": 3
   },
   "file_extension": ".py",
   "mimetype": "text/x-python",
   "name": "python",
   "nbconvert_exporter": "python",
   "pygments_lexer": "ipython3",
   "version": "3.12.8"
  }
 },
 "nbformat": 4,
 "nbformat_minor": 2
}
